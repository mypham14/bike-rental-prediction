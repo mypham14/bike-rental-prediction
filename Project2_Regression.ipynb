{
 "cells": [
  {
   "cell_type": "markdown",
   "metadata": {},
   "source": [
    "## Part 1: Regression Task:"
   ]
  },
  {
   "cell_type": "markdown",
   "metadata": {},
   "source": [
    "### Data Preprocess"
   ]
  },
  {
   "cell_type": "markdown",
   "metadata": {},
   "source": [
    "# 1. Data exploration"
   ]
  },
  {
   "cell_type": "code",
   "execution_count": 1,
   "metadata": {},
   "outputs": [],
   "source": [
    "# Import libraris and dataset\n",
    "import numpy as np\n",
    "import pandas as pd\n",
    "import warnings\n",
    "warnings.filterwarnings('ignore')\n",
    "from sklearn import preprocessing\n",
    "\n",
    "df = pd.read_csv('bikesharing.csv')"
   ]
  },
  {
   "cell_type": "markdown",
   "metadata": {},
   "source": [
    "# 2. Missing data"
   ]
  },
  {
   "cell_type": "code",
   "execution_count": 2,
   "metadata": {},
   "outputs": [],
   "source": [
    "df.isnull().sum()\n",
    "df = df.fillna(df.mean())"
   ]
  },
  {
   "cell_type": "code",
   "execution_count": 3,
   "metadata": {},
   "outputs": [],
   "source": [
    "df = df.drop(['casual','instant','dteday','registered'],axis = 1)\n",
    "\n",
    "seed = 1498920\n",
    "np.random.seed(seed)"
   ]
  },
  {
   "cell_type": "code",
   "execution_count": 4,
   "metadata": {},
   "outputs": [
    {
     "name": "stdout",
     "output_type": "stream",
     "text": [
      "<class 'pandas.core.frame.DataFrame'>\n",
      "RangeIndex: 17379 entries, 0 to 17378\n",
      "Data columns (total 13 columns):\n",
      "season        17379 non-null int64\n",
      "yr            17379 non-null int64\n",
      "mnth          17379 non-null int64\n",
      "hr            17379 non-null int64\n",
      "holiday       17379 non-null int64\n",
      "weekday       17379 non-null int64\n",
      "workingday    17379 non-null int64\n",
      "weathersit    17379 non-null int64\n",
      "temp          17379 non-null float64\n",
      "atemp         17379 non-null float64\n",
      "hum           17379 non-null float64\n",
      "windspeed     17379 non-null float64\n",
      "cnt           17379 non-null int64\n",
      "dtypes: float64(4), int64(9)\n",
      "memory usage: 1.7 MB\n"
     ]
    }
   ],
   "source": [
    "df.info()"
   ]
  },
  {
   "cell_type": "markdown",
   "metadata": {},
   "source": [
    "# 3. Splitting data"
   ]
  },
  {
   "cell_type": "code",
   "execution_count": 5,
   "metadata": {},
   "outputs": [],
   "source": [
    "# Split train test 70%\n",
    "bool_index = np.random.rand(df.shape[0]) < 0.7\n",
    "train = df[bool_index].reset_index(drop = True)\n",
    "test = df[~bool_index].reset_index(drop = True)"
   ]
  },
  {
   "cell_type": "markdown",
   "metadata": {},
   "source": [
    "# 4. Scaling data"
   ]
  },
  {
   "cell_type": "code",
   "execution_count": 6,
   "metadata": {},
   "outputs": [],
   "source": [
    "# X features and y\n",
    "# Standardize X features\n",
    "scaler = preprocessing.StandardScaler()\n",
    "\n",
    "\n",
    "train_x = train.iloc[:,0:12]\n",
    "train_y = train.iloc[:,12]\n",
    "scaler.fit(train_x)\n",
    "train_x_scaled = scaler.transform(train_x)\n",
    "\n",
    "test_x = test.iloc[:,0:12]\n",
    "test_y = test.iloc[:,12] \n",
    "test_x_scaled = scaler.transform(test_x)"
   ]
  },
  {
   "cell_type": "markdown",
   "metadata": {},
   "source": [
    "# 5. Bagging"
   ]
  },
  {
   "cell_type": "code",
   "execution_count": 7,
   "metadata": {},
   "outputs": [],
   "source": [
    "from sklearn.ensemble import BaggingRegressor\n",
    "from sklearn.tree import DecisionTreeRegressor\n",
    "\n",
    "dt_reg = DecisionTreeRegressor(random_state=0)\n",
    "bag_reg = BaggingRegressor(dt_reg, n_estimators=500, max_samples=100, bootstrap=True, random_state=0, oob_score=True)\n",
    "\n",
    "bag_reg.fit(train_x_scaled, train_y)\n",
    "y_pred = bag_reg.predict(test_x_scaled)"
   ]
  },
  {
   "cell_type": "code",
   "execution_count": 8,
   "metadata": {},
   "outputs": [
    {
     "data": {
      "text/plain": [
       "103.83903402376203"
      ]
     },
     "execution_count": 8,
     "metadata": {},
     "output_type": "execute_result"
    }
   ],
   "source": [
    "from sklearn.metrics import mean_squared_error\n",
    "from math import sqrt\n",
    "\n",
    "rms = sqrt(mean_squared_error(test_y, y_pred))\n",
    "rms"
   ]
  },
  {
   "cell_type": "code",
   "execution_count": 9,
   "metadata": {},
   "outputs": [
    {
     "data": {
      "text/plain": [
       "113.82936972085706"
      ]
     },
     "execution_count": 9,
     "metadata": {},
     "output_type": "execute_result"
    }
   ],
   "source": [
    "from sklearn.ensemble import RandomForestRegressor\n",
    "\n",
    "rnd_reg = RandomForestRegressor(random_state=0)\n",
    "bag_rnd = BaggingRegressor(rnd_reg, n_estimators=500, max_samples=100, bootstrap=True, random_state=0, oob_score=True)\n",
    "\n",
    "bag_rnd.fit(train_x_scaled, train_y)\n",
    "\n",
    "y_pred_rf = bag_rnd.predict(test_x_scaled)\n",
    "\n",
    "rms = sqrt(mean_squared_error(test_y, y_pred_rf))\n",
    "rms"
   ]
  },
  {
   "cell_type": "markdown",
   "metadata": {},
   "source": [
    "# 6. Pasting"
   ]
  },
  {
   "cell_type": "code",
   "execution_count": 13,
   "metadata": {},
   "outputs": [],
   "source": [
    "from sklearn.ensemble import BaggingRegressor\n",
    "from sklearn.tree import DecisionTreeRegressor\n",
    "\n",
    "dt_reg = DecisionTreeRegressor(random_state=0)\n",
    "bag_reg = BaggingRegressor(dt_reg, n_estimators=500, max_samples=100, bootstrap=False, random_state=0)\n",
    "\n",
    "bag_reg.fit(train_x_scaled, train_y)\n",
    "y_pred = bag_reg.predict(test_x_scaled)"
   ]
  },
  {
   "cell_type": "code",
   "execution_count": 14,
   "metadata": {},
   "outputs": [
    {
     "data": {
      "text/plain": [
       "103.74226374247431"
      ]
     },
     "execution_count": 14,
     "metadata": {},
     "output_type": "execute_result"
    }
   ],
   "source": [
    "from sklearn.metrics import mean_squared_error\n",
    "from math import sqrt\n",
    "\n",
    "rms = sqrt(mean_squared_error(test_y, y_pred))\n",
    "rms"
   ]
  },
  {
   "cell_type": "code",
   "execution_count": 15,
   "metadata": {},
   "outputs": [
    {
     "data": {
      "text/plain": [
       "113.75255512203731"
      ]
     },
     "execution_count": 15,
     "metadata": {},
     "output_type": "execute_result"
    }
   ],
   "source": [
    "from sklearn.ensemble import RandomForestRegressor\n",
    "\n",
    "rnd_reg = RandomForestRegressor(random_state=0)\n",
    "bag_rnd = BaggingRegressor(rnd_reg, n_estimators=500, max_samples=100, bootstrap=False, random_state=0)\n",
    "\n",
    "bag_rnd.fit(train_x_scaled, train_y)\n",
    "\n",
    "y_pred_rf = bag_rnd.predict(test_x_scaled)\n",
    "\n",
    "rms = sqrt(mean_squared_error(test_y, y_pred_rf))\n",
    "rms"
   ]
  },
  {
   "cell_type": "markdown",
   "metadata": {},
   "source": [
    "# 7. AdaBoost"
   ]
  },
  {
   "cell_type": "code",
   "execution_count": 16,
   "metadata": {},
   "outputs": [
    {
     "data": {
      "text/plain": [
       "103.74226374247431"
      ]
     },
     "execution_count": 16,
     "metadata": {},
     "output_type": "execute_result"
    }
   ],
   "source": [
    "from sklearn.ensemble import AdaBoostRegressor\n",
    "\n",
    "dt_reg = DecisionTreeRegressor(random_state=0)\n",
    "ada_reg = AdaBoostRegressor(dt_reg)\n",
    "\n",
    "ada_reg.fit(train_x_scaled, train_y)\n",
    "y_pred_ada = bag_reg.predict(test_x_scaled)\n",
    "rms = sqrt(mean_squared_error(test_y, y_pred_ada))\n",
    "rms"
   ]
  },
  {
   "cell_type": "code",
   "execution_count": 17,
   "metadata": {},
   "outputs": [
    {
     "data": {
      "text/plain": [
       "103.74226374247431"
      ]
     },
     "execution_count": 17,
     "metadata": {},
     "output_type": "execute_result"
    }
   ],
   "source": [
    "dt_reg = RandomForestRegressor(random_state=0, max_depth = 1, max_leaf_nodes=2, min_samples_split=2)\n",
    "ada_reg = AdaBoostRegressor(dt_reg)\n",
    "\n",
    "ada_reg.fit(train_x_scaled, train_y)\n",
    "y_pred = bag_reg.predict(test_x_scaled)\n",
    "rms = sqrt(mean_squared_error(test_y, y_pred))\n",
    "rms"
   ]
  },
  {
   "cell_type": "markdown",
   "metadata": {},
   "source": [
    "# 8. Gradient Boosting"
   ]
  },
  {
   "cell_type": "code",
   "execution_count": 20,
   "metadata": {},
   "outputs": [
    {
     "name": "stdout",
     "output_type": "stream",
     "text": [
      "Best parameters: {'learning_rate': 0.8, 'max_depth': 2, 'n_estimators': 200}\n",
      "Best cross-validation score: 0.7766\n",
      "Average cross-validation score: 0.7463\n"
     ]
    }
   ],
   "source": [
    "# GridSearch\n",
    "from sklearn.model_selection import GridSearchCV\n",
    "from  sklearn.ensemble import GradientBoostingRegressor\n",
    "from sklearn.model_selection import cross_val_score\n",
    "gb = GradientBoostingRegressor(random_state=42)\n",
    "\n",
    "param = {'max_depth':[1,2,3], 'n_estimators':[100,200], 'learning_rate':[0.8, 1.0]}\n",
    "gb_grid_search = GridSearchCV(gb, param, cv=5)\n",
    "gb_grid_search.fit(train_x_scaled, train_y)\n",
    "print(\"Best parameters: {}\".format(gb_grid_search.best_params_))\n",
    "print(\"Best cross-validation score: {:.4f}\".format(gb_grid_search.best_score_))\n",
    "\n",
    "# Cross-validation\n",
    "gb_scores = cross_val_score(gb, train_x_scaled, train_y, cv=5)\n",
    "print(\"Average cross-validation score: {:.4f}\".format(gb_scores.mean()))"
   ]
  },
  {
   "cell_type": "code",
   "execution_count": 21,
   "metadata": {},
   "outputs": [
    {
     "data": {
      "text/plain": [
       "66.5177573922792"
      ]
     },
     "execution_count": 21,
     "metadata": {},
     "output_type": "execute_result"
    }
   ],
   "source": [
    "gb = GradientBoostingRegressor(max_depth=2, n_estimators=200, learning_rate=0.8, random_state=42)\n",
    "gb.fit(train_x_scaled, train_y)\n",
    "y_pred_gb = gb.predict(test_x_scaled)\n",
    "\n",
    "rms = sqrt(mean_squared_error(test_y, y_pred_gb))\n",
    "rms"
   ]
  },
  {
   "cell_type": "markdown",
   "metadata": {},
   "source": [
    "# 9. Applying PCA and running all algorithms from Project 1"
   ]
  },
  {
   "cell_type": "code",
   "execution_count": 22,
   "metadata": {},
   "outputs": [],
   "source": [
    "from sklearn.decomposition import PCA\n",
    "\n",
    "# 0.90 = 90% variance retained\n",
    "pca = PCA(0.90)\n",
    "# fit on train set only\n",
    "pca.fit(train_x_scaled)\n",
    "\n",
    "# transform for both train and test\n",
    "pca_train_x = pca.transform(train_x_scaled)\n",
    "pca_test_x = pca.transform(test_x_scaled)"
   ]
  },
  {
   "cell_type": "code",
   "execution_count": 23,
   "metadata": {},
   "outputs": [
    {
     "name": "stdout",
     "output_type": "stream",
     "text": [
      "(12126, 12)\n",
      "(12126, 9)\n"
     ]
    }
   ],
   "source": [
    "print(train_x_scaled.shape)\n",
    "print(pca_train_x.shape)\n",
    "\n",
    "# 90% variance is retained by using 9 components (variables)"
   ]
  },
  {
   "cell_type": "markdown",
   "metadata": {},
   "source": [
    "### Regression models using GridSearchCV and cross-validation"
   ]
  },
  {
   "cell_type": "markdown",
   "metadata": {},
   "source": [
    "1. SVM kernel (linear, poly, rbf)"
   ]
  },
  {
   "cell_type": "code",
   "execution_count": 24,
   "metadata": {},
   "outputs": [
    {
     "name": "stdout",
     "output_type": "stream",
     "text": [
      "Fitting 3 folds for each of 3 candidates, totalling 9 fits\n"
     ]
    },
    {
     "name": "stderr",
     "output_type": "stream",
     "text": [
      "[Parallel(n_jobs=-1)]: Using backend LokyBackend with 4 concurrent workers.\n",
      "[Parallel(n_jobs=-1)]: Done   3 out of   9 | elapsed:   18.5s remaining:   37.2s\n",
      "[Parallel(n_jobs=-1)]: Done   4 out of   9 | elapsed:   21.0s remaining:   26.3s\n",
      "[Parallel(n_jobs=-1)]: Done   5 out of   9 | elapsed:   32.7s remaining:   26.1s\n",
      "[Parallel(n_jobs=-1)]: Done   6 out of   9 | elapsed:   32.9s remaining:   16.4s\n",
      "[Parallel(n_jobs=-1)]: Done   7 out of   9 | elapsed:   37.3s remaining:   10.6s\n",
      "[Parallel(n_jobs=-1)]: Done   9 out of   9 | elapsed:   46.0s remaining:    0.0s\n",
      "[Parallel(n_jobs=-1)]: Done   9 out of   9 | elapsed:   46.0s finished\n"
     ]
    },
    {
     "data": {
      "text/plain": [
       "GridSearchCV(cv=3, error_score='raise-deprecating',\n",
       "             estimator=SVR(C=1.0, cache_size=200, coef0=0.0, degree=3,\n",
       "                           epsilon=0.1, gamma='auto_deprecated', kernel='rbf',\n",
       "                           max_iter=-1, shrinking=True, tol=0.001,\n",
       "                           verbose=False),\n",
       "             iid='warn', n_jobs=-1,\n",
       "             param_grid={'kernel': ['linear', 'poly', 'rbf']},\n",
       "             pre_dispatch='2*n_jobs', refit=True, return_train_score=True,\n",
       "             scoring=None, verbose=10)"
      ]
     },
     "execution_count": 24,
     "metadata": {},
     "output_type": "execute_result"
    }
   ],
   "source": [
    "from sklearn.model_selection import GridSearchCV\n",
    "from sklearn.svm import SVR\n",
    "\n",
    "svclassifier = SVR()\n",
    "param_grid = {'kernel' : ['linear','poly', 'rbf']}\n",
    "\n",
    "grid_search_SVR = GridSearchCV(estimator = svclassifier, param_grid = param_grid, \n",
    "                          cv = 3, n_jobs = -1,verbose = 10,return_train_score = True)\n",
    "\n",
    "\n",
    "grid_search_SVR.fit(pca_train_x, train_y)"
   ]
  },
  {
   "cell_type": "code",
   "execution_count": 25,
   "metadata": {},
   "outputs": [],
   "source": [
    "import matplotlib.pyplot as plt\n",
    "\n",
    "results = grid_search_SVR.cv_results_\n",
    "num_param = len(list(param_grid.values())[0])\n",
    "train_scores = np.hstack((results['split0_train_score'].reshape((num_param,1)),results['split1_train_score'].reshape((num_param,1)),results['split2_train_score'].reshape((num_param,1))))\n",
    "val_scores = np.hstack((results['split0_test_score'].reshape((num_param,1)),results['split1_test_score'].reshape((num_param,1)),results['split2_test_score'].reshape((num_param,1))))"
   ]
  },
  {
   "cell_type": "code",
   "execution_count": 26,
   "metadata": {},
   "outputs": [],
   "source": [
    "train_mean = np.mean(train_scores,axis = 1)\n",
    "val_mean = np.mean(val_scores,axis = 1)  \n",
    "width = 0.6"
   ]
  },
  {
   "cell_type": "code",
   "execution_count": 27,
   "metadata": {},
   "outputs": [
    {
     "data": {
      "image/png": "[encoded data removed]",
      "text/plain": [
       "<Figure size 432x288 with 1 Axes>"
      ]
     },
     "metadata": {
      "needs_background": "light"
     },
     "output_type": "display_data"
    }
   ],
   "source": [
    "plt.grid(True)\n",
    "plt.bar(['Linear','Polynomial','RBF'], train_mean, width=width, \n",
    "        color='b', label='Training Accuracy')\n",
    "plt.bar(['Linear','Polynomial','RBF'], val_mean, \n",
    "        width=0.5*width, color='r', alpha=0.5, label='Validation Accuracy')\n",
    "plt.title('Comments Data')\n",
    "plt.suptitle('Training Accuracy and Validation Accuracy across Kernels')\n",
    "plt.ylabel('RMSE')\n",
    "plt.xlabel('Kernels')\n",
    "plt.show()"
   ]
  },
  {
   "cell_type": "code",
   "execution_count": 28,
   "metadata": {},
   "outputs": [],
   "source": [
    "SVM_final = grid_search_SVR.best_estimator_\n",
    "pred_test_y = SVM_final.predict(pca_test_x) "
   ]
  },
  {
   "cell_type": "code",
   "execution_count": 29,
   "metadata": {},
   "outputs": [],
   "source": [
    "from sklearn.metrics import mean_squared_error, r2_score\n",
    "from math import sqrt\n",
    "\n",
    "rms = sqrt(mean_squared_error(test_y, pred_test_y))"
   ]
  },
  {
   "cell_type": "code",
   "execution_count": 30,
   "metadata": {},
   "outputs": [
    {
     "data": {
      "text/plain": [
       "151.93758160270653"
      ]
     },
     "execution_count": 30,
     "metadata": {},
     "output_type": "execute_result"
    }
   ],
   "source": [
    "rms"
   ]
  },
  {
   "cell_type": "markdown",
   "metadata": {},
   "source": [
    "2. KNN"
   ]
  },
  {
   "cell_type": "code",
   "execution_count": 31,
   "metadata": {},
   "outputs": [
    {
     "name": "stdout",
     "output_type": "stream",
     "text": [
      "Fitting 3 folds for each of 10 candidates, totalling 30 fits\n"
     ]
    },
    {
     "name": "stderr",
     "output_type": "stream",
     "text": [
      "[Parallel(n_jobs=-1)]: Using backend LokyBackend with 4 concurrent workers.\n",
      "[Parallel(n_jobs=-1)]: Done   5 tasks      | elapsed:    2.4s\n",
      "[Parallel(n_jobs=-1)]: Done  10 tasks      | elapsed:    4.6s\n",
      "[Parallel(n_jobs=-1)]: Done  17 tasks      | elapsed:    9.7s\n",
      "[Parallel(n_jobs=-1)]: Done  27 out of  30 | elapsed:   16.6s remaining:    1.8s\n",
      "[Parallel(n_jobs=-1)]: Done  30 out of  30 | elapsed:   18.5s finished\n"
     ]
    },
    {
     "data": {
      "text/plain": [
       "GridSearchCV(cv=3, error_score='raise-deprecating',\n",
       "             estimator=KNeighborsRegressor(algorithm='auto', leaf_size=30,\n",
       "                                           metric='minkowski',\n",
       "                                           metric_params=None, n_jobs=None,\n",
       "                                           n_neighbors=5, p=2,\n",
       "                                           weights='uniform'),\n",
       "             iid='warn', n_jobs=-1,\n",
       "             param_grid={'n_neighbors': [1, 3, 5, 7, 9, 11, 13, 15, 17, 19]},\n",
       "             pre_dispatch='2*n_jobs', refit=True, return_train_score=True,\n",
       "             scoring=None, verbose=10)"
      ]
     },
     "execution_count": 31,
     "metadata": {},
     "output_type": "execute_result"
    }
   ],
   "source": [
    "from sklearn.neighbors import KNeighborsRegressor\n",
    "\n",
    "knn_model = KNeighborsRegressor()\n",
    "param_grid = {'n_neighbors' : [i for i in range(1,21,2)]}\n",
    "\n",
    "grid_search_KNN = GridSearchCV(estimator = knn_model, param_grid = param_grid, \n",
    "                          cv = 3, n_jobs = -1,verbose = 10,return_train_score = True)\n",
    "\n",
    "grid_search_KNN.fit(pca_train_x, train_y)"
   ]
  },
  {
   "cell_type": "code",
   "execution_count": 32,
   "metadata": {},
   "outputs": [],
   "source": [
    "best_k = grid_search_KNN.best_params_['n_neighbors']\n",
    "\n",
    "results = grid_search_KNN.cv_results_\n",
    "num_param = len(list(param_grid.values())[0])\n",
    "train_scores = np.hstack((results['split0_train_score'].reshape((num_param,1)),results['split1_train_score'].reshape((num_param,1)),results['split2_train_score'].reshape((num_param,1))))\n",
    "val_scores = np.hstack((results['split0_test_score'].reshape((num_param,1)),results['split1_test_score'].reshape((num_param,1)),results['split2_test_score'].reshape((num_param,1))))"
   ]
  },
  {
   "cell_type": "code",
   "execution_count": 33,
   "metadata": {},
   "outputs": [],
   "source": [
    "train_mean = np.mean(train_scores,axis = 1)\n",
    "val_mean = np.mean(val_scores,axis = 1)  \n",
    "width = 0.6"
   ]
  },
  {
   "cell_type": "code",
   "execution_count": 34,
   "metadata": {},
   "outputs": [
    {
     "data": {
      "text/plain": [
       "Text(0.5, 0, 'Number of Neighbors')"
      ]
     },
     "execution_count": 34,
     "metadata": {},
     "output_type": "execute_result"
    },
    {
     "data": {
      "image/png": "[encoded data removed]",
      "text/plain": [
       "<Figure size 432x288 with 1 Axes>"
      ]
     },
     "metadata": {
      "needs_background": "light"
     },
     "output_type": "display_data"
    }
   ],
   "source": [
    "plt.grid(True)\n",
    "plt.bar( [i for i in range(1,21,2)], train_mean, width=width, \n",
    "        color='b', label='Training Accuracy')\n",
    "plt.bar([i for i in range(1,21,2)], val_mean, \n",
    "        width=0.5*width, color='r', alpha=0.5, label='Validation Accuracy')\n",
    "plt.title('Comments Data')\n",
    "plt.suptitle('Training Accuracy and Validation Accuracy across Kernels')\n",
    "plt.ylabel('R-squared')\n",
    "plt.xlabel('Number of Neighbors')"
   ]
  },
  {
   "cell_type": "code",
   "execution_count": 36,
   "metadata": {},
   "outputs": [],
   "source": [
    "KNN_final = grid_search_KNN.best_estimator_\n",
    "pred_test_y = KNN_final.predict(pca_test_x)"
   ]
  },
  {
   "cell_type": "code",
   "execution_count": 37,
   "metadata": {},
   "outputs": [
    {
     "data": {
      "text/plain": [
       "118.1769602519825"
      ]
     },
     "execution_count": 37,
     "metadata": {},
     "output_type": "execute_result"
    }
   ],
   "source": [
    "from sklearn.metrics import mean_squared_error\n",
    "from math import sqrt\n",
    "\n",
    "rms = sqrt(mean_squared_error(test_y, pred_test_y))\n",
    "rms"
   ]
  },
  {
   "cell_type": "markdown",
   "metadata": {},
   "source": [
    "3. Linear Regression"
   ]
  },
  {
   "cell_type": "code",
   "execution_count": 38,
   "metadata": {},
   "outputs": [
    {
     "data": {
      "text/plain": [
       "LinearRegression(copy_X=True, fit_intercept=True, n_jobs=None, normalize=False)"
      ]
     },
     "execution_count": 38,
     "metadata": {},
     "output_type": "execute_result"
    }
   ],
   "source": [
    "from sklearn.linear_model import LinearRegression\n",
    "\n",
    "linreg_model = LinearRegression()\n",
    "parameters = {'fit_intercept':[True,False], 'normalize':[True,False], 'copy_X':[True, False]}\n",
    "linreg_model.fit(pca_train_x,train_y)"
   ]
  },
  {
   "cell_type": "code",
   "execution_count": 40,
   "metadata": {},
   "outputs": [],
   "source": [
    "import statsmodels.formula.api as sm\n",
    "import statsmodels.api as sm\n",
    "\n",
    "linreg_model = sm.OLS(train_y,pca_train_x).fit()"
   ]
  },
  {
   "cell_type": "code",
   "execution_count": 41,
   "metadata": {},
   "outputs": [],
   "source": [
    "#results = linreg_model.fit()\n",
    "#results.params"
   ]
  },
  {
   "cell_type": "code",
   "execution_count": 42,
   "metadata": {},
   "outputs": [],
   "source": [
    "linreg_model.summary()\n",
    "\n",
    "pred_test_y = linreg_model.predict(pca_test_x)"
   ]
  },
  {
   "cell_type": "code",
   "execution_count": 43,
   "metadata": {},
   "outputs": [
    {
     "data": {
      "text/plain": [
       "239.51366865837832"
      ]
     },
     "execution_count": 43,
     "metadata": {},
     "output_type": "execute_result"
    }
   ],
   "source": [
    "rms = sqrt(mean_squared_error(test_y, pred_test_y))\n",
    "rms"
   ]
  },
  {
   "cell_type": "code",
   "execution_count": 44,
   "metadata": {},
   "outputs": [],
   "source": [
    "from sklearn.base import BaseEstimator\n",
    "\n",
    "class PolynomialRegression(BaseEstimator):\n",
    "    def __init__(self, deg=None):\n",
    "        self.deg = deg\n",
    "    \n",
    "    def fit(self, X, y, deg=None):\n",
    "        self.model = LinearRegression(fit_intercept=False)\n",
    "        self.model.fit(np.vander(X, N=self.deg + 1), y)\n",
    "    \n",
    "    def predict(self, x):\n",
    "        return self.model.predict(np.vander(x, N=self.deg + 1))\n",
    "    \n",
    "    @property\n",
    "    def coef_(self):\n",
    "        return self.model.coef_"
   ]
  },
  {
   "cell_type": "code",
   "execution_count": 45,
   "metadata": {},
   "outputs": [
    {
     "data": {
      "text/plain": [
       "PolynomialRegression(deg=5)"
      ]
     },
     "execution_count": 45,
     "metadata": {},
     "output_type": "execute_result"
    }
   ],
   "source": [
    "poly_reg = PolynomialRegression()\n",
    "degrees = np.arange(1, 8)\n",
    "grid_search_poly = GridSearchCV(poly_reg,\n",
    "                        param_grid={'deg': degrees},\n",
    "                        scoring='neg_mean_squared_error')\n",
    "grid_search_poly.fit(train_y, pca_train_x)\n",
    "grid_search_poly.best_estimator_"
   ]
  },
  {
   "cell_type": "code",
   "execution_count": 46,
   "metadata": {},
   "outputs": [],
   "source": [
    "best_degree = grid_search_poly.best_params_['deg']\n",
    "poly_final = grid_search_poly.best_estimator_"
   ]
  },
  {
   "cell_type": "code",
   "execution_count": 47,
   "metadata": {},
   "outputs": [
    {
     "data": {
      "text/plain": [
       "LinearRegression(copy_X=True, fit_intercept=True, n_jobs=None, normalize=False)"
      ]
     },
     "execution_count": 47,
     "metadata": {},
     "output_type": "execute_result"
    }
   ],
   "source": [
    "from sklearn.preprocessing import PolynomialFeatures\n",
    "\n",
    "poly = PolynomialFeatures(degree=best_degree)\n",
    "train_x_poly = poly.fit_transform(pca_train_x)\n",
    "poly_lr = LinearRegression()\n",
    "poly_lr.fit(train_x_poly, train_y)"
   ]
  },
  {
   "cell_type": "code",
   "execution_count": 48,
   "metadata": {},
   "outputs": [
    {
     "data": {
      "text/plain": [
       "1606.3532361836228"
      ]
     },
     "execution_count": 48,
     "metadata": {},
     "output_type": "execute_result"
    }
   ],
   "source": [
    "test_x_poly = poly.fit_transform(pca_test_x)\n",
    "\n",
    "pred_test_y = poly_lr.predict(test_x_poly)\n",
    "rms = sqrt(mean_squared_error(test_y, pred_test_y))\n",
    "rms"
   ]
  },
  {
   "cell_type": "markdown",
   "metadata": {},
   "source": [
    "4. Ridge"
   ]
  },
  {
   "cell_type": "code",
   "execution_count": 49,
   "metadata": {},
   "outputs": [
    {
     "name": "stdout",
     "output_type": "stream",
     "text": [
      "Fitting 3 folds for each of 8 candidates, totalling 24 fits\n"
     ]
    },
    {
     "name": "stderr",
     "output_type": "stream",
     "text": [
      "[Parallel(n_jobs=-1)]: Using backend LokyBackend with 4 concurrent workers.\n",
      "[Parallel(n_jobs=-1)]: Batch computation too fast (0.0624s.) Setting batch_size=6.\n",
      "[Parallel(n_jobs=-1)]: Done   5 out of  24 | elapsed:    0.0s remaining:    0.4s\n",
      "[Parallel(n_jobs=-1)]: Done   8 out of  24 | elapsed:    0.0s remaining:    0.2s\n",
      "[Parallel(n_jobs=-1)]: Done  24 out of  24 | elapsed:    0.1s finished\n"
     ]
    },
    {
     "data": {
      "text/plain": [
       "GridSearchCV(cv=3, error_score='raise-deprecating',\n",
       "             estimator=Ridge(alpha=1.0, copy_X=True, fit_intercept=True,\n",
       "                             max_iter=None, normalize=False, random_state=None,\n",
       "                             solver='auto', tol=0.001),\n",
       "             iid='warn', n_jobs=-1,\n",
       "             param_grid={'alpha': array([0.5, 0.7, 0.9, 1.1, 1.3, 1.5, 1.7, 1.9])},\n",
       "             pre_dispatch='2*n_jobs', refit=True, return_train_score=True,\n",
       "             scoring=None, verbose=10)"
      ]
     },
     "execution_count": 49,
     "metadata": {},
     "output_type": "execute_result"
    }
   ],
   "source": [
    "from sklearn.linear_model import Ridge, Lasso\n",
    "\n",
    "ridge_model = Ridge()\n",
    "\n",
    "param_grid = {'alpha' : np.arange(0.5,2.0,0.2)}\n",
    "\n",
    "grid_search_ridge = GridSearchCV(estimator = ridge_model, param_grid = param_grid, \n",
    "                          cv = 3, n_jobs = -1,verbose = 10,return_train_score = True)\n",
    "\n",
    "grid_search_ridge.fit(pca_train_x, train_y)"
   ]
  },
  {
   "cell_type": "code",
   "execution_count": 50,
   "metadata": {},
   "outputs": [
    {
     "data": {
      "text/plain": [
       "144.82485410842116"
      ]
     },
     "execution_count": 50,
     "metadata": {},
     "output_type": "execute_result"
    }
   ],
   "source": [
    "best_alpha = grid_search_ridge.best_params_['alpha']\n",
    "\n",
    "ridge_final = grid_search_ridge.best_estimator_\n",
    "pred_test_y = ridge_final.predict(pca_test_x)\n",
    "\n",
    "rms = sqrt(mean_squared_error(test_y, pred_test_y))\n",
    "rms"
   ]
  },
  {
   "cell_type": "markdown",
   "metadata": {},
   "source": [
    "5. Lasso"
   ]
  },
  {
   "cell_type": "code",
   "execution_count": 51,
   "metadata": {},
   "outputs": [
    {
     "name": "stdout",
     "output_type": "stream",
     "text": [
      "Fitting 3 folds for each of 8 candidates, totalling 24 fits\n"
     ]
    },
    {
     "name": "stderr",
     "output_type": "stream",
     "text": [
      "[Parallel(n_jobs=-1)]: Using backend LokyBackend with 4 concurrent workers.\n",
      "[Parallel(n_jobs=-1)]: Batch computation too fast (0.0585s.) Setting batch_size=6.\n",
      "[Parallel(n_jobs=-1)]: Done   5 out of  24 | elapsed:    0.0s remaining:    0.3s\n",
      "[Parallel(n_jobs=-1)]: Done   8 out of  24 | elapsed:    0.0s remaining:    0.2s\n",
      "[Parallel(n_jobs=-1)]: Done  24 out of  24 | elapsed:    0.1s finished\n"
     ]
    },
    {
     "data": {
      "text/plain": [
       "GridSearchCV(cv=3, error_score='raise-deprecating',\n",
       "             estimator=Lasso(alpha=1.0, copy_X=True, fit_intercept=True,\n",
       "                             max_iter=1000, normalize=False, positive=False,\n",
       "                             precompute=False, random_state=None,\n",
       "                             selection='cyclic', tol=0.0001, warm_start=False),\n",
       "             iid='warn', n_jobs=-1,\n",
       "             param_grid={'alpha': array([0.5, 0.7, 0.9, 1.1, 1.3, 1.5, 1.7, 1.9])},\n",
       "             pre_dispatch='2*n_jobs', refit=True, return_train_score=True,\n",
       "             scoring=None, verbose=10)"
      ]
     },
     "execution_count": 51,
     "metadata": {},
     "output_type": "execute_result"
    }
   ],
   "source": [
    "lasso_model = Lasso()\n",
    "\n",
    "param_grid = {'alpha' : np.arange(0.5,2.0,0.2)}\n",
    "\n",
    "grid_search_lasso = GridSearchCV(estimator = lasso_model, param_grid = param_grid, \n",
    "                          cv = 3, n_jobs = -1,verbose = 10,return_train_score = True)\n",
    "\n",
    "grid_search_lasso.fit(pca_train_x, train_y)"
   ]
  },
  {
   "cell_type": "code",
   "execution_count": 52,
   "metadata": {},
   "outputs": [
    {
     "data": {
      "text/plain": [
       "144.8266162413143"
      ]
     },
     "execution_count": 52,
     "metadata": {},
     "output_type": "execute_result"
    }
   ],
   "source": [
    "best_alpha = grid_search_lasso.best_params_['alpha']\n",
    "\n",
    "lasso_final = grid_search_lasso.best_estimator_\n",
    "pred_test_y = lasso_final.predict(pca_test_x)\n",
    "\n",
    "rms = sqrt(mean_squared_error(test_y, pred_test_y))\n",
    "rms"
   ]
  },
  {
   "cell_type": "markdown",
   "metadata": {},
   "source": [
    "# Result Table before and after applying PCA "
   ]
  },
  {
   "cell_type": "code",
   "execution_count": 86,
   "metadata": {},
   "outputs": [
    {
     "name": "stdout",
     "output_type": "stream",
     "text": [
      "Before PCA:\n"
     ]
    },
    {
     "data": {
      "text/html": [
       "<div>\n",
       "<style scoped>\n",
       "    .dataframe tbody tr th:only-of-type {\n",
       "        vertical-align: middle;\n",
       "    }\n",
       "\n",
       "    .dataframe tbody tr th {\n",
       "        vertical-align: top;\n",
       "    }\n",
       "\n",
       "    .dataframe thead th {\n",
       "        text-align: right;\n",
       "    }\n",
       "</style>\n",
       "<table border=\"1\" class=\"dataframe\">\n",
       "  <thead>\n",
       "    <tr style=\"text-align: right;\">\n",
       "      <th></th>\n",
       "      <th>Model Selection</th>\n",
       "      <th>Best cross-validation RMSE</th>\n",
       "    </tr>\n",
       "  </thead>\n",
       "  <tbody>\n",
       "    <tr>\n",
       "      <th>0</th>\n",
       "      <td>KNN</td>\n",
       "      <td>116</td>\n",
       "    </tr>\n",
       "    <tr>\n",
       "      <th>2</th>\n",
       "      <td>SVR Kernel RBF</td>\n",
       "      <td>154</td>\n",
       "    </tr>\n",
       "    <tr>\n",
       "      <th>5</th>\n",
       "      <td>Lasso Regression</td>\n",
       "      <td>172</td>\n",
       "    </tr>\n",
       "    <tr>\n",
       "      <th>4</th>\n",
       "      <td>Ridge Regression</td>\n",
       "      <td>186</td>\n",
       "    </tr>\n",
       "    <tr>\n",
       "      <th>1</th>\n",
       "      <td>Linear Regression</td>\n",
       "      <td>224</td>\n",
       "    </tr>\n",
       "    <tr>\n",
       "      <th>3</th>\n",
       "      <td>Polynomial Regression</td>\n",
       "      <td>324</td>\n",
       "    </tr>\n",
       "  </tbody>\n",
       "</table>\n",
       "</div>"
      ],
      "text/plain": [
       "         Model Selection  Best cross-validation RMSE\n",
       "0                    KNN                         116\n",
       "2         SVR Kernel RBF                         154\n",
       "5       Lasso Regression                         172\n",
       "4       Ridge Regression                         186\n",
       "1      Linear Regression                         224\n",
       "3  Polynomial Regression                         324"
      ]
     },
     "execution_count": 86,
     "metadata": {},
     "output_type": "execute_result"
    }
   ],
   "source": [
    "print('Before PCA:')\n",
    "\n",
    "data1 = {'Model Selection':[\"KNN\", \"Linear Regression\", \"SVR Kernel RBF\", \"Polynomial Regression\", \"Ridge Regression\", \"Lasso Regression\"],\n",
    "       'Best cross-validation RMSE':[116, 224, 154, 324, 186, 172]}\n",
    "data2 = {'Model Selection':[\"KNN\", \"Linear Regression\", \"SVR Kernel RBF\", \"Polynomial Regression\", \"Ridge Regression\", \"Lasso Regression\"],\n",
    "       'RMSE after PCA':[118, 239, 151, 1606, 144, 144]}\n",
    "\n",
    "df1 = pd.DataFrame(data1)\n",
    "df1.sort_values(['Best cross-validation RMSE'], ascending=True)"
   ]
  },
  {
   "cell_type": "code",
   "execution_count": 87,
   "metadata": {},
   "outputs": [
    {
     "name": "stdout",
     "output_type": "stream",
     "text": [
      "After PCA:\n"
     ]
    },
    {
     "data": {
      "text/html": [
       "<div>\n",
       "<style scoped>\n",
       "    .dataframe tbody tr th:only-of-type {\n",
       "        vertical-align: middle;\n",
       "    }\n",
       "\n",
       "    .dataframe tbody tr th {\n",
       "        vertical-align: top;\n",
       "    }\n",
       "\n",
       "    .dataframe thead th {\n",
       "        text-align: right;\n",
       "    }\n",
       "</style>\n",
       "<table border=\"1\" class=\"dataframe\">\n",
       "  <thead>\n",
       "    <tr style=\"text-align: right;\">\n",
       "      <th></th>\n",
       "      <th>Model Selection</th>\n",
       "      <th>RMSE after PCA</th>\n",
       "    </tr>\n",
       "  </thead>\n",
       "  <tbody>\n",
       "    <tr>\n",
       "      <th>0</th>\n",
       "      <td>KNN</td>\n",
       "      <td>118</td>\n",
       "    </tr>\n",
       "    <tr>\n",
       "      <th>4</th>\n",
       "      <td>Ridge Regression</td>\n",
       "      <td>144</td>\n",
       "    </tr>\n",
       "    <tr>\n",
       "      <th>5</th>\n",
       "      <td>Lasso Regression</td>\n",
       "      <td>144</td>\n",
       "    </tr>\n",
       "    <tr>\n",
       "      <th>2</th>\n",
       "      <td>SVR Kernel RBF</td>\n",
       "      <td>151</td>\n",
       "    </tr>\n",
       "    <tr>\n",
       "      <th>1</th>\n",
       "      <td>Linear Regression</td>\n",
       "      <td>239</td>\n",
       "    </tr>\n",
       "    <tr>\n",
       "      <th>3</th>\n",
       "      <td>Polynomial Regression</td>\n",
       "      <td>1606</td>\n",
       "    </tr>\n",
       "  </tbody>\n",
       "</table>\n",
       "</div>"
      ],
      "text/plain": [
       "         Model Selection  RMSE after PCA\n",
       "0                    KNN             118\n",
       "4       Ridge Regression             144\n",
       "5       Lasso Regression             144\n",
       "2         SVR Kernel RBF             151\n",
       "1      Linear Regression             239\n",
       "3  Polynomial Regression            1606"
      ]
     },
     "execution_count": 87,
     "metadata": {},
     "output_type": "execute_result"
    }
   ],
   "source": [
    "print('After PCA:')\n",
    "\n",
    "df2 = pd.DataFrame(data2)\n",
    "df2.sort_values(['RMSE after PCA'], ascending=True)"
   ]
  },
  {
   "cell_type": "markdown",
   "metadata": {},
   "source": [
    "Result Comparison Table (Before PCA vs After PCA)"
   ]
  },
  {
   "cell_type": "code",
   "execution_count": 65,
   "metadata": {},
   "outputs": [
    {
     "data": {
      "text/html": [
       "<div>\n",
       "<style scoped>\n",
       "    .dataframe tbody tr th:only-of-type {\n",
       "        vertical-align: middle;\n",
       "    }\n",
       "\n",
       "    .dataframe tbody tr th {\n",
       "        vertical-align: top;\n",
       "    }\n",
       "\n",
       "    .dataframe thead th {\n",
       "        text-align: right;\n",
       "    }\n",
       "</style>\n",
       "<table border=\"1\" class=\"dataframe\">\n",
       "  <thead>\n",
       "    <tr style=\"text-align: right;\">\n",
       "      <th></th>\n",
       "      <th>Model Selection</th>\n",
       "      <th>Best cross-validation RMSE</th>\n",
       "      <th>Best cross-validation RMSE after PCA</th>\n",
       "    </tr>\n",
       "  </thead>\n",
       "  <tbody>\n",
       "    <tr>\n",
       "      <th>0</th>\n",
       "      <td>KNN</td>\n",
       "      <td>116</td>\n",
       "      <td>118</td>\n",
       "    </tr>\n",
       "    <tr>\n",
       "      <th>2</th>\n",
       "      <td>SVR Kernel RBF</td>\n",
       "      <td>154</td>\n",
       "      <td>151</td>\n",
       "    </tr>\n",
       "    <tr>\n",
       "      <th>5</th>\n",
       "      <td>Lasso Regression</td>\n",
       "      <td>172</td>\n",
       "      <td>144</td>\n",
       "    </tr>\n",
       "    <tr>\n",
       "      <th>4</th>\n",
       "      <td>Ridge Regression</td>\n",
       "      <td>186</td>\n",
       "      <td>144</td>\n",
       "    </tr>\n",
       "    <tr>\n",
       "      <th>1</th>\n",
       "      <td>Linear Regression</td>\n",
       "      <td>224</td>\n",
       "      <td>239</td>\n",
       "    </tr>\n",
       "    <tr>\n",
       "      <th>3</th>\n",
       "      <td>Polynomial Regression</td>\n",
       "      <td>324</td>\n",
       "      <td>1606</td>\n",
       "    </tr>\n",
       "  </tbody>\n",
       "</table>\n",
       "</div>"
      ],
      "text/plain": [
       "         Model Selection  Best cross-validation RMSE  \\\n",
       "0                    KNN                         116   \n",
       "2         SVR Kernel RBF                         154   \n",
       "5       Lasso Regression                         172   \n",
       "4       Ridge Regression                         186   \n",
       "1      Linear Regression                         224   \n",
       "3  Polynomial Regression                         324   \n",
       "\n",
       "   Best cross-validation RMSE after PCA  \n",
       "0                                   118  \n",
       "2                                   151  \n",
       "5                                   144  \n",
       "4                                   144  \n",
       "1                                   239  \n",
       "3                                  1606  "
      ]
     },
     "execution_count": 65,
     "metadata": {},
     "output_type": "execute_result"
    }
   ],
   "source": [
    "data = {'Model Selection':[\"KNN\", \"Linear Regression\", \"SVR Kernel RBF\", \"Polynomial Regression\", \"Ridge Regression\", \"Lasso Regression\"],\n",
    "       'Best cross-validation RMSE':[116, 224, 154, 324, 186, 172],\n",
    "       'Best cross-validation RMSE after PCA':[118, 239, 151, 1606, 144, 144]}\n",
    "\n",
    "df = pd.DataFrame(data)\n",
    "df.sort_values(['Best cross-validation RMSE'], ascending=True)"
   ]
  },
  {
   "cell_type": "markdown",
   "metadata": {},
   "source": [
    "KNN is the best model as it provides the best model results with the lowest cross-validation RMSE (both before and after PCA). PCA doesn't help in getting better results in this dataset as the cross-validation RMSE after PCA seem to be higher in general compared to those before PCA. Since we aim to have a model that runs fast and is easy to implement, KNN is the best model to be selected. It also requires no assumption and only uses one hyperparameter."
   ]
  },
  {
   "cell_type": "markdown",
   "metadata": {},
   "source": [
    "# 10. Applying Neural Network"
   ]
  },
  {
   "cell_type": "code",
   "execution_count": 88,
   "metadata": {},
   "outputs": [],
   "source": [
    "from keras.models import Sequential\n",
    "from keras.layers import Dense\n",
    "from keras.wrappers.scikit_learn import KerasRegressor\n",
    "from sklearn.model_selection import cross_val_score\n",
    "from sklearn.model_selection import KFold"
   ]
  },
  {
   "cell_type": "code",
   "execution_count": 89,
   "metadata": {},
   "outputs": [
    {
     "data": {
      "text/plain": [
       "(12126, 12)"
      ]
     },
     "execution_count": 89,
     "metadata": {},
     "output_type": "execute_result"
    }
   ],
   "source": [
    "train_x.shape"
   ]
  },
  {
   "cell_type": "code",
   "execution_count": 90,
   "metadata": {},
   "outputs": [],
   "source": [
    "# Define the keras model\n",
    "model = Sequential()\n",
    "\n",
    "# Hidden layers\n",
    "model.add(Dense(12, input_dim=12, kernel_initializer='normal', activation='relu'))\n",
    "\n",
    "# Output\n",
    "model.add(Dense(1, kernel_initializer='normal',))"
   ]
  },
  {
   "cell_type": "code",
   "execution_count": 91,
   "metadata": {},
   "outputs": [],
   "source": [
    "# Compile model\n",
    "model.compile(loss='mean_squared_error', optimizer='adam')"
   ]
  },
  {
   "cell_type": "code",
   "execution_count": 92,
   "metadata": {},
   "outputs": [
    {
     "name": "stdout",
     "output_type": "stream",
     "text": [
      "Epoch 1/10\n",
      "12126/12126 [==============================] - 5s 423us/step - loss: 46899.1513\n",
      "Epoch 2/10\n",
      "12126/12126 [==============================] - 6s 526us/step - loss: 23051.1178\n",
      "Epoch 3/10\n",
      "12126/12126 [==============================] - 7s 542us/step - loss: 20678.7490\n",
      "Epoch 4/10\n",
      "12126/12126 [==============================] - 7s 544us/step - loss: 19705.5033\n",
      "Epoch 5/10\n",
      "12126/12126 [==============================] - 5s 453us/step - loss: 19404.6318\n",
      "Epoch 6/10\n",
      "12126/12126 [==============================] - 6s 482us/step - loss: 19323.7343\n",
      "Epoch 7/10\n",
      "12126/12126 [==============================] - 6s 480us/step - loss: 19292.0175\n",
      "Epoch 8/10\n",
      "12126/12126 [==============================] - 5s 454us/step - loss: 19277.6221\n",
      "Epoch 9/10\n",
      "12126/12126 [==============================] - 6s 468us/step - loss: 19262.5476\n",
      "Epoch 10/10\n",
      "12126/12126 [==============================] - 6s 476us/step - loss: 19241.8433\n"
     ]
    },
    {
     "data": {
      "text/plain": [
       "<keras.callbacks.callbacks.History at 0x26cdab5f1d0>"
      ]
     },
     "execution_count": 92,
     "metadata": {},
     "output_type": "execute_result"
    }
   ],
   "source": [
    "# Train the model: fit epochs and batch_size\n",
    "model.fit(train_x_scaled, train_y, epochs = 10, batch_size = 5)"
   ]
  },
  {
   "cell_type": "markdown",
   "metadata": {},
   "source": [
    "We have improved our loss from 46899.1513 to 19241.8433."
   ]
  },
  {
   "cell_type": "code",
   "execution_count": 93,
   "metadata": {},
   "outputs": [
    {
     "name": "stdout",
     "output_type": "stream",
     "text": [
      "12126/12126 [==============================] - 0s 37us/step\n"
     ]
    },
    {
     "data": {
      "text/plain": [
       "19208.477147744903"
      ]
     },
     "execution_count": 93,
     "metadata": {},
     "output_type": "execute_result"
    }
   ],
   "source": [
    "# Evaluation\n",
    "model.evaluate(train_x_scaled, train_y)"
   ]
  },
  {
   "cell_type": "code",
   "execution_count": 94,
   "metadata": {},
   "outputs": [
    {
     "name": "stdout",
     "output_type": "stream",
     "text": [
      "5253/5253 [==============================] - 0s 26us/step\n"
     ]
    },
    {
     "data": {
      "text/plain": [
       "20341.76542106148"
      ]
     },
     "execution_count": 94,
     "metadata": {},
     "output_type": "execute_result"
    }
   ],
   "source": [
    "model.evaluate(test_x_scaled, test_y)"
   ]
  },
  {
   "cell_type": "code",
   "execution_count": 99,
   "metadata": {},
   "outputs": [
    {
     "data": {
      "text/plain": [
       "array([[ 36.491898],\n",
       "       [ 80.924904],\n",
       "       [ 86.71492 ],\n",
       "       ...,\n",
       "       [ 95.54914 ],\n",
       "       [186.18881 ],\n",
       "       [220.76636 ]], dtype=float32)"
      ]
     },
     "execution_count": 99,
     "metadata": {},
     "output_type": "execute_result"
    }
   ],
   "source": [
    "# Making predictions\n",
    "test_y_predictions = model.predict(test_x_scaled)\n",
    "test_y_predictions"
   ]
  }
 ],
 "metadata": {
  "kernelspec": {
   "display_name": "Python 3",
   "language": "python",
   "name": "python3"
  },
  "language_info": {
   "codemirror_mode": {
    "name": "ipython",
    "version": 3
   },
   "file_extension": ".py",
   "mimetype": "text/x-python",
   "name": "python",
   "nbconvert_exporter": "python",
   "pygments_lexer": "ipython3",
   "version": "3.8.3"
  }
 },
 "nbformat": 4,
 "nbformat_minor": 4
}
